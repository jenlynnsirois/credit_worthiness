{
 "cells": [
  {
   "cell_type": "markdown",
   "metadata": {},
   "source": [
    "# Analyzing borrowers’ risk of defaulting\n",
    "\n",
    "Your project is to prepare a report for a bank’s loan division. You’ll need to find out if a customer’s marital status and number of children has an impact on whether they will default on a loan. The bank already has some data on customers’ credit worthiness.\n",
    "\n",
    "Your report will be considered when building a **credit scoring** of a potential customer. A ** credit scoring ** is used to evaluate the ability of a potential borrower to repay their loan."
   ]
  },
  {
   "cell_type": "markdown",
   "metadata": {},
   "source": [
    "### Step 1. Open the data file and have a look at the general information. "
   ]
  },
  {
   "cell_type": "code",
   "execution_count": 3,
   "metadata": {
    "scrolled": false
   },
   "outputs": [
    {
     "name": "stdout",
     "output_type": "stream",
     "text": [
      "<class 'pandas.core.frame.DataFrame'>\n",
      "RangeIndex: 21525 entries, 0 to 21524\n",
      "Data columns (total 12 columns):\n",
      "children            21525 non-null int64\n",
      "days_employed       19351 non-null float64\n",
      "dob_years           21525 non-null int64\n",
      "education           21525 non-null object\n",
      "education_id        21525 non-null int64\n",
      "family_status       21525 non-null object\n",
      "family_status_id    21525 non-null int64\n",
      "gender              21525 non-null object\n",
      "income_type         21525 non-null object\n",
      "debt                21525 non-null int64\n",
      "total_income        19351 non-null float64\n",
      "purpose             21525 non-null object\n",
      "dtypes: float64(2), int64(5), object(5)\n",
      "memory usage: 2.0+ MB\n"
     ]
    }
   ],
   "source": [
    "import pandas as pd\n",
    "import nltk\n",
    "from collections import Counter\n",
    "from nltk.stem import WordNetLemmatizer\n",
    "wordnet_lemma = WordNetLemmatizer()\n",
    "df = pd.read_csv('/datasets/credit_scoring_eng.csv')\n",
    "df.info()"
   ]
  },
  {
   "cell_type": "code",
   "execution_count": 5,
   "metadata": {},
   "outputs": [
    {
     "data": {
      "text/html": [
       "<div>\n",
       "<style scoped>\n",
       "    .dataframe tbody tr th:only-of-type {\n",
       "        vertical-align: middle;\n",
       "    }\n",
       "\n",
       "    .dataframe tbody tr th {\n",
       "        vertical-align: top;\n",
       "    }\n",
       "\n",
       "    .dataframe thead th {\n",
       "        text-align: right;\n",
       "    }\n",
       "</style>\n",
       "<table border=\"1\" class=\"dataframe\">\n",
       "  <thead>\n",
       "    <tr style=\"text-align: right;\">\n",
       "      <th></th>\n",
       "      <th>children</th>\n",
       "      <th>days_employed</th>\n",
       "      <th>dob_years</th>\n",
       "      <th>education</th>\n",
       "      <th>education_id</th>\n",
       "      <th>family_status</th>\n",
       "      <th>family_status_id</th>\n",
       "      <th>gender</th>\n",
       "      <th>income_type</th>\n",
       "      <th>debt</th>\n",
       "      <th>total_income</th>\n",
       "      <th>purpose</th>\n",
       "    </tr>\n",
       "  </thead>\n",
       "  <tbody>\n",
       "    <tr>\n",
       "      <td>0</td>\n",
       "      <td>1</td>\n",
       "      <td>-8437.673028</td>\n",
       "      <td>42</td>\n",
       "      <td>bachelor's degree</td>\n",
       "      <td>0</td>\n",
       "      <td>married</td>\n",
       "      <td>0</td>\n",
       "      <td>F</td>\n",
       "      <td>employee</td>\n",
       "      <td>0</td>\n",
       "      <td>40620.102</td>\n",
       "      <td>purchase of the house</td>\n",
       "    </tr>\n",
       "    <tr>\n",
       "      <td>1</td>\n",
       "      <td>1</td>\n",
       "      <td>-4024.803754</td>\n",
       "      <td>36</td>\n",
       "      <td>secondary education</td>\n",
       "      <td>1</td>\n",
       "      <td>married</td>\n",
       "      <td>0</td>\n",
       "      <td>F</td>\n",
       "      <td>employee</td>\n",
       "      <td>0</td>\n",
       "      <td>17932.802</td>\n",
       "      <td>car purchase</td>\n",
       "    </tr>\n",
       "    <tr>\n",
       "      <td>2</td>\n",
       "      <td>0</td>\n",
       "      <td>-5623.422610</td>\n",
       "      <td>33</td>\n",
       "      <td>Secondary Education</td>\n",
       "      <td>1</td>\n",
       "      <td>married</td>\n",
       "      <td>0</td>\n",
       "      <td>M</td>\n",
       "      <td>employee</td>\n",
       "      <td>0</td>\n",
       "      <td>23341.752</td>\n",
       "      <td>purchase of the house</td>\n",
       "    </tr>\n",
       "    <tr>\n",
       "      <td>3</td>\n",
       "      <td>3</td>\n",
       "      <td>-4124.747207</td>\n",
       "      <td>32</td>\n",
       "      <td>secondary education</td>\n",
       "      <td>1</td>\n",
       "      <td>married</td>\n",
       "      <td>0</td>\n",
       "      <td>M</td>\n",
       "      <td>employee</td>\n",
       "      <td>0</td>\n",
       "      <td>42820.568</td>\n",
       "      <td>supplementary education</td>\n",
       "    </tr>\n",
       "    <tr>\n",
       "      <td>4</td>\n",
       "      <td>0</td>\n",
       "      <td>340266.072047</td>\n",
       "      <td>53</td>\n",
       "      <td>secondary education</td>\n",
       "      <td>1</td>\n",
       "      <td>civil partnership</td>\n",
       "      <td>1</td>\n",
       "      <td>F</td>\n",
       "      <td>retiree</td>\n",
       "      <td>0</td>\n",
       "      <td>25378.572</td>\n",
       "      <td>to have a wedding</td>\n",
       "    </tr>\n",
       "  </tbody>\n",
       "</table>\n",
       "</div>"
      ],
      "text/plain": [
       "   children  days_employed  dob_years            education  education_id  \\\n",
       "0         1   -8437.673028         42    bachelor's degree             0   \n",
       "1         1   -4024.803754         36  secondary education             1   \n",
       "2         0   -5623.422610         33  Secondary Education             1   \n",
       "3         3   -4124.747207         32  secondary education             1   \n",
       "4         0  340266.072047         53  secondary education             1   \n",
       "\n",
       "       family_status  family_status_id gender income_type  debt  total_income  \\\n",
       "0            married                 0      F    employee     0     40620.102   \n",
       "1            married                 0      F    employee     0     17932.802   \n",
       "2            married                 0      M    employee     0     23341.752   \n",
       "3            married                 0      M    employee     0     42820.568   \n",
       "4  civil partnership                 1      F     retiree     0     25378.572   \n",
       "\n",
       "                   purpose  \n",
       "0    purchase of the house  \n",
       "1             car purchase  \n",
       "2    purchase of the house  \n",
       "3  supplementary education  \n",
       "4        to have a wedding  "
      ]
     },
     "execution_count": 5,
     "metadata": {},
     "output_type": "execute_result"
    }
   ],
   "source": [
    "df.head()"
   ]
  },
  {
   "cell_type": "markdown",
   "metadata": {},
   "source": [
    "- There are over 21,000 rows but only missing data in total_income and days_employed\n",
    "- Most columns seem to have adequate data types but floats would be more useful as ints\n"
   ]
  },
  {
   "cell_type": "markdown",
   "metadata": {},
   "source": [
    "### Step 2. Data preprocessing"
   ]
  },
  {
   "cell_type": "markdown",
   "metadata": {},
   "source": [
    "### Processing missing values"
   ]
  },
  {
   "cell_type": "code",
   "execution_count": 2,
   "metadata": {},
   "outputs": [
    {
     "name": "stdout",
     "output_type": "stream",
     "text": [
      "Days_Employed Mean: 365004.3099162686 vs. Median: 365213.30626573117\n",
      "Total Income Mean: 26787.56835465867 vs. Median: 23202.87\n"
     ]
    },
    {
     "data": {
      "text/plain": [
       "children            0\n",
       "days_employed       0\n",
       "dob_years           0\n",
       "education           0\n",
       "education_id        0\n",
       "family_status       0\n",
       "family_status_id    0\n",
       "gender              0\n",
       "income_type         0\n",
       "debt                0\n",
       "total_income        0\n",
       "purpose             0\n",
       "dtype: int64"
      ]
     },
     "execution_count": 2,
     "metadata": {},
     "output_type": "execute_result"
    }
   ],
   "source": [
    "df['days_employed'].sort_values()\n",
    "#checked to see if numbers are all positive. They are not. \n",
    "days_employed_positive_mean = df['days_employed'][df['days_employed'] > 0].mean()\n",
    "days_employed_positive_median = df['days_employed'][df['days_employed'] > 0].median()\n",
    "print('Days_Employed Mean:', days_employed_positive_mean, 'vs. Median:', days_employed_positive_median)\n",
    "#checking to see if there are any major outliers in the positive data but both numbers are roughly the same.   \n",
    "df['days_employed'] = df['days_employed'].fillna(days_employed_positive_mean)\n",
    "\n",
    "#doing the same process for total_income\n",
    "df['total_income'].sort_values()\n",
    "#all values are positive\n",
    "total_income_mean = df['total_income'].mean()\n",
    "total_income_median = df['total_income'].median()\n",
    "print('Total Income Mean:', total_income_mean, 'vs. Median:', total_income_median)\n",
    "#again, both numbers are roughly the same.  Using smaller number. \n",
    "df['total_income'] = df['total_income'].fillna(total_income_median)\n",
    "\n",
    "\n",
    "#checking to make sure there are no more NaN values\n",
    "df.isnull().sum()"
   ]
  },
  {
   "cell_type": "markdown",
   "metadata": {},
   "source": [
    "### Conclusion"
   ]
  },
  {
   "cell_type": "markdown",
   "metadata": {},
   "source": [
    "- It looks like the same rows that were missing days of employment were also missing total income.  This likely means this information was not required at the time those specific rows of data were collected.  \n",
    "- Unfortunately we have negative values in the days_employed data.  This is obviously an error that will need to be fixed before using this number to draw any conclusions. "
   ]
  },
  {
   "cell_type": "markdown",
   "metadata": {},
   "source": [
    "### Data type replacement"
   ]
  },
  {
   "cell_type": "code",
   "execution_count": 3,
   "metadata": {},
   "outputs": [
    {
     "name": "stdout",
     "output_type": "stream",
     "text": [
      "<class 'pandas.core.frame.DataFrame'>\n",
      "RangeIndex: 21525 entries, 0 to 21524\n",
      "Data columns (total 12 columns):\n",
      "children            21525 non-null int64\n",
      "days_employed       21525 non-null int64\n",
      "dob_years           21525 non-null int64\n",
      "education           21525 non-null object\n",
      "education_id        21525 non-null int64\n",
      "family_status       21525 non-null object\n",
      "family_status_id    21525 non-null int64\n",
      "gender              21525 non-null object\n",
      "income_type         21525 non-null object\n",
      "debt                21525 non-null int64\n",
      "total_income        21525 non-null int64\n",
      "purpose             21525 non-null object\n",
      "dtypes: int64(7), object(5)\n",
      "memory usage: 2.0+ MB\n"
     ]
    }
   ],
   "source": [
    "df['days_employed'] = df['days_employed'].astype('int')\n",
    "df['total_income'] = df['total_income'].astype('int')\n",
    "#double checking there are no more floats\n",
    "df.info()"
   ]
  },
  {
   "cell_type": "markdown",
   "metadata": {},
   "source": [
    "### Conclusion"
   ]
  },
  {
   "cell_type": "markdown",
   "metadata": {},
   "source": [
    "- Used the astype method since tonumeric method only changes input to floats"
   ]
  },
  {
   "cell_type": "markdown",
   "metadata": {},
   "source": [
    "### Categorizing Data"
   ]
  },
  {
   "cell_type": "code",
   "execution_count": 5,
   "metadata": {},
   "outputs": [],
   "source": [
    "#splitting data by income level\n",
    "def income_level(income):\n",
    "    if income <= 20000:\n",
    "        return 'low'\n",
    "    if income <= 50000:\n",
    "        return 'mid low'\n",
    "    if income <= 70000:\n",
    "        return 'mid high'\n",
    "    else:\n",
    "        return 'high'\n",
    "    \n",
    "df['income_level'] = df['total_income'].apply(income_level)\n"
   ]
  },
  {
   "cell_type": "markdown",
   "metadata": {},
   "source": [
    "### Conclusion"
   ]
  },
  {
   "cell_type": "markdown",
   "metadata": {},
   "source": []
  },
  {
   "cell_type": "markdown",
   "metadata": {},
   "source": [
    "### Step 3. Answer these questions"
   ]
  },
  {
   "cell_type": "markdown",
   "metadata": {},
   "source": [
    "- Is there a relation between having kids and repaying a loan on time?"
   ]
  },
  {
   "cell_type": "code",
   "execution_count": 8,
   "metadata": {},
   "outputs": [
    {
     "name": "stdout",
     "output_type": "stream",
     "text": [
      "Applicants without children 7376\n",
      "Liklihood of missed payments with children: 9.19%\n",
      "Applicants without children 14149\n",
      "Liklihood of missed payments without children: 7.51%\n"
     ]
    }
   ],
   "source": [
    "total_with_children = df['children'][(df['children'] != 0)].count()\n",
    "print('Applicants without children', total_with_children)\n",
    "df_children_debt = df['children'][(df['children'] != 0) & (df['debt'] == 1)].count()\n",
    "ratio_with_children = df_children_debt / total_with_children\n",
    "print('Liklihood of missed payments with children: {:.2%}'.format(ratio_with_children))\n",
    "\n",
    "total_without_children = df['children'][(df['children'] == 0)].count()\n",
    "print('Applicants without children', total_without_children)\n",
    "df_nochildren_debt = df['children'][(df['children'] == 0) & (df['debt'] == 1)].count()\n",
    "ratio_without_children = df_nochildren_debt / total_without_children\n",
    "print('Liklihood of missed payments without children: {:.2%}'.format(ratio_without_children))"
   ]
  },
  {
   "cell_type": "markdown",
   "metadata": {},
   "source": [
    "### Conclusion"
   ]
  },
  {
   "cell_type": "markdown",
   "metadata": {},
   "source": [
    "- From the data, it looks like that a person is more likely to default if they have children.  \n",
    "- Additionally, there are twice as many people without children which is also interesting to consider. "
   ]
  },
  {
   "cell_type": "markdown",
   "metadata": {},
   "source": [
    "- Is there a relation between marital status and repaying a loan on time?"
   ]
  },
  {
   "cell_type": "code",
   "execution_count": 9,
   "metadata": {},
   "outputs": [
    {
     "name": "stdout",
     "output_type": "stream",
     "text": [
      "Married applicants 12380\n",
      "Liklihood of missed payments when married: 7.52%\n",
      "Applicants not in a marriage 9145\n",
      "Liklihood of missed payments when not married: 8.86%\n",
      "\n",
      "Breakdown of those not married:\n",
      "Liklihood of missed payments when in a civil partnership: 9.29%\n",
      "Liklihood of missed payments when unmarried: 9.74%\n",
      "Liklihood of missed payments when divorced: 7.11%\n",
      "Liklihood of missed payments when widowed: 6.56%\n"
     ]
    }
   ],
   "source": [
    "total_married = df['family_status'][(df['family_status'] == 'married')].count()\n",
    "print('Married applicants', total_married)\n",
    "df_married_debt = df['family_status'][(df['family_status'] == 'married') & (df['debt'] == 1)].count()\n",
    "ratio_married = df_married_debt / total_married\n",
    "print('Liklihood of missed payments when married: {:.2%}'.format(ratio_married))\n",
    "\n",
    "total_not_married = df['family_status'][(df['family_status'] != 'married')].count()\n",
    "print('Applicants not in a marriage', total_not_married)\n",
    "df_not_married_debt = df['family_status'][(df['family_status'] != 'married') & (df['debt'] == 1)].count()\n",
    "ratio_not_married = df_not_married_debt / total_not_married\n",
    "print('Liklihood of missed payments when not married: {:.2%}'.format(ratio_not_married))\n",
    "print()\n",
    "print('Breakdown of those not married:')\n",
    "total_CP = df['family_status'][(df['family_status'] == 'civil partnership')].count()\n",
    "df_CP_debt = df['family_status'][(df['family_status'] == 'civil partnership') & (df['debt'] == 1)].count()\n",
    "ratio_CP = df_CP_debt / total_CP\n",
    "print('Liklihood of missed payments when in a civil partnership: {:.2%}'.format(ratio_CP))\n",
    "\n",
    "total_unmarried = df['family_status'][(df['family_status'] == 'unmarried')].count()\n",
    "df_unmarried_debt = df['family_status'][(df['family_status'] == 'unmarried') & (df['debt'] == 1)].count()\n",
    "ratio_unmarried = df_unmarried_debt / total_unmarried\n",
    "print('Liklihood of missed payments when unmarried: {:.2%}'.format(ratio_unmarried))\n",
    "\n",
    "total_divorced = df['family_status'][(df['family_status'] == 'divorced')].count()\n",
    "df_divorced_debt = df['family_status'][(df['family_status'] == 'divorced') & (df['debt'] == 1)].count()\n",
    "ratio_divorced = df_divorced_debt / total_divorced\n",
    "print('Liklihood of missed payments when divorced: {:.2%}'.format(ratio_divorced))\n",
    "\n",
    "total_widow = df['family_status'][(df['family_status'] == 'widow / widower')].count()\n",
    "df_widow_debt = df['family_status'][(df['family_status'] == 'widow / widower') & (df['debt'] == 1)].count()\n",
    "ratio_widow = df_widow_debt / total_widow\n",
    "print('Liklihood of missed payments when widowed: {:.2%}'.format(ratio_widow))"
   ]
  },
  {
   "cell_type": "markdown",
   "metadata": {},
   "source": [
    "### Conclusion"
   ]
  },
  {
   "cell_type": "markdown",
   "metadata": {},
   "source": [
    "- When comparing between those who are married and everyone else, those who are married are less likely to not pay their loan. \n",
    "- However, within those who are not married, the percentage varies greatly.  It seems that divorced and widowed people are the safest bet. \n",
    "- Of course, this should not be the only factor when assessing loan eligibility"
   ]
  },
  {
   "cell_type": "markdown",
   "metadata": {},
   "source": [
    "- Is there a relation between income level and repaying a loan on time?"
   ]
  },
  {
   "cell_type": "code",
   "execution_count": 10,
   "metadata": {},
   "outputs": [
    {
     "name": "stdout",
     "output_type": "stream",
     "text": [
      "Liklihood of missed payments with low income: 8.25%\n",
      "Liklihood of missed payments with mid-low income: 8.11%\n",
      "Liklihood of missed payments with mid-high income: 7.43%\n",
      "Liklihood of missed payments with high income: 5.82%\n"
     ]
    }
   ],
   "source": [
    "total_low = df['income_level'][(df['income_level'] == 'low')].count()\n",
    "df_low_debt = df['income_level'][(df['income_level'] == 'low') & (df['debt'] == 1)].count()\n",
    "ratio_low_income = df_low_debt / total_low\n",
    "print('Liklihood of missed payments with low income: {:.2%}'.format(ratio_low_income))\n",
    "\n",
    "total_med_low = df['income_level'][(df['income_level'] == 'mid low')].count()\n",
    "df_med_low_debt = df['income_level'][(df['income_level'] == 'mid low') & (df['debt'] == 1)].count()\n",
    "ratio_med_low_income = df_med_low_debt / total_med_low\n",
    "print('Liklihood of missed payments with mid-low income: {:.2%}'.format(ratio_med_low_income))\n",
    "\n",
    "total_med_high = df['income_level'][(df['income_level'] == 'mid high')].count()\n",
    "df_med_high_debt = df['income_level'][(df['income_level'] == 'mid high') & (df['debt'] == 1)].count()\n",
    "ratio_med_high_income = df_med_high_debt / total_med_high\n",
    "print('Liklihood of missed payments with mid-high income: {:.2%}'.format(ratio_med_high_income))\n",
    "\n",
    "total_high = df['income_level'][(df['income_level'] == 'high')].count()\n",
    "df_high_debt = df['income_level'][(df['income_level'] == 'high') & (df['debt'] == 1)].count()\n",
    "ratio_high_income = df_high_debt / total_high\n",
    "print('Liklihood of missed payments with high income: {:.2%}'.format(ratio_high_income))"
   ]
  },
  {
   "cell_type": "markdown",
   "metadata": {},
   "source": [
    "### Conclusion"
   ]
  },
  {
   "cell_type": "markdown",
   "metadata": {},
   "source": [
    "- The higher the income, the less likely to miss payments\n",
    "- Another factor to consider is that 2000+ values were changed that are now in the mid-low level.  If we had the real data, the percentages above may change. However, it is noted that none of the changed values had ever missed payments.  "
   ]
  },
  {
   "cell_type": "markdown",
   "metadata": {},
   "source": [
    "- How do different loan purposes affect on-time repayment of the loan?"
   ]
  },
  {
   "cell_type": "code",
   "execution_count": 11,
   "metadata": {},
   "outputs": [
    {
     "name": "stdout",
     "output_type": "stream",
     "text": [
      "wedding ceremony                            797\n",
      "having a wedding                            777\n",
      "to have a wedding                           774\n",
      "real estate transactions                    676\n",
      "buy commercial real estate                  664\n",
      "buying property for renting out             653\n",
      "housing transactions                        653\n",
      "transactions with commercial real estate    651\n",
      "housing                                     647\n",
      "purchase of the house                       647\n",
      "purchase of the house for my family         641\n",
      "construction of own property                635\n",
      "property                                    634\n",
      "transactions with my real estate            630\n",
      "building a real estate                      626\n",
      "buy real estate                             624\n",
      "purchase of my own house                    620\n",
      "building a property                         620\n",
      "housing renovation                          612\n",
      "buy residential real estate                 607\n",
      "buying my own car                           505\n",
      "going to university                         496\n",
      "car                                         495\n",
      "second-hand car purchase                    489\n",
      "to own a car                                480\n",
      "buying a second-hand car                    479\n",
      "cars                                        478\n",
      "to buy a car                                472\n",
      "supplementary education                     462\n",
      "car purchase                                462\n",
      "purchase of a car                           455\n",
      "university education                        453\n",
      "to get a supplementary education            447\n",
      "education                                   447\n",
      "getting an education                        443\n",
      "profile education                           436\n",
      "getting higher education                    426\n",
      "to become educated                          412\n",
      "Name: purpose, dtype: int64\n",
      "\n",
      "Count by lemmas:\n",
      "Counter({'a': 5130, 'real': 4478, 'estate': 4478, 'car': 4315, 'purchase': 3314, 'education': 3114, 'to': 3081, 'of': 2998, 'transaction': 2610, 'property': 2542, 'my': 2396, 'buy': 2367, 'wedding': 2348, 'own': 2240, 'housing': 1912, 'house': 1908, 'buying': 1637, 'commercial': 1315, 'for': 1294, 'the': 1288, 'with': 1281, 'building': 1246, 'second-hand': 968, 'university': 949, 'supplementary': 909, 'getting': 869, 'ceremony': 797, 'having': 777, 'have': 774, 'renting': 653, 'out': 653, 'family': 641, 'construction': 635, 'renovation': 612, 'residential': 607, 'going': 496, 'get': 447, 'an': 443, 'profile': 436, 'higher': 426, 'become': 412, 'educated': 412})\n",
      "\n",
      "Liklihood of missed payments for house: 7.21%\n",
      "Liklihood of missed payments for education: 9.20%\n",
      "Liklihood of missed payments for car: 9.34%\n",
      "Liklihood of missed payments for wedding: 7.92%\n"
     ]
    }
   ],
   "source": [
    "#see value counts of all unique purposes\n",
    "print(df['purpose'].value_counts())\n",
    "#many purposes are the same, just stated differently. Finding lemmas of words will help to shorten the list \n",
    "all_purpose = ' '.join([i for i in df['purpose']]).split()\n",
    "lemmas = [wordnet_lemma.lemmatize(w, pos = 'n') for w in all_purpose]\n",
    "print()\n",
    "print('Count by lemmas:')\n",
    "print(Counter(lemmas))\n",
    "print()\n",
    "#spliting data by purpose & finding debt ratio\n",
    "\n",
    "total_house = df[(df['purpose'].str.contains('estate')) | \n",
    "                                 (df['purpose'].str.contains('property')) | \n",
    "                                 (df['purpose'].str.contains('house')) | \n",
    "                                 (df['purpose'].str.contains('housing'))]\n",
    "house_debt = total_house['debt'][(total_house['debt'] == 1)]\n",
    "ratio_house_debt = (house_debt.count()) / total_house['debt'].count()\n",
    "print('Liklihood of missed payments for house: {:.2%}'.format(ratio_house_debt))\n",
    "\n",
    "\n",
    "total_education = df[(df['purpose'].str.contains('university')) | \n",
    "                                 (df['purpose'].str.contains('education')) | \n",
    "                                 (df['purpose'].str.contains('educated'))]\n",
    "education_debt = total_education['debt'][(total_education['debt'] == 1)]\n",
    "ratio_education_debt = (education_debt.count()) / total_education['debt'].count()\n",
    "print('Liklihood of missed payments for education: {:.2%}'.format(ratio_education_debt))\n",
    "\n",
    "total_car = df[(df['purpose'].str.contains('car'))]\n",
    "car_debt = total_car['debt'][(total_car['debt'] == 1)]\n",
    "ratio_car_debt = (car_debt.count()) / total_car['debt'].count()\n",
    "print('Liklihood of missed payments for car: {:.2%}'.format(ratio_car_debt))\n",
    "\n",
    "total_wedding = df[(df['purpose'].str.contains('wedding'))]\n",
    "wedding_debt = total_wedding['debt'][(total_wedding['debt'] == 1)]\n",
    "ratio_wedding_debt = (wedding_debt.count()) / total_wedding['debt'].count()\n",
    "print('Liklihood of missed payments for wedding: {:.2%}'.format(ratio_wedding_debt))\n",
    "\n"
   ]
  },
  {
   "cell_type": "markdown",
   "metadata": {},
   "source": [
    "### Conclusion"
   ]
  },
  {
   "cell_type": "markdown",
   "metadata": {},
   "source": [
    "- It appears that those needing the money for education or a car are the most risky. \n",
    "- In the future it would be easier to have uniform purposes to choose from, eliminating the need to search manually within the data"
   ]
  },
  {
   "cell_type": "markdown",
   "metadata": {},
   "source": [
    "### Step 4. General conclusion"
   ]
  },
  {
   "cell_type": "markdown",
   "metadata": {},
   "source": [
    "From the questions presented, we can assume that low income, unmarried applicants with children looking to buy a car or pay for education are the most risky.  However, other questions could be explored as well that were not presented above.  For instance, does a person's age factor into their ability to pay on time? Or their education, days employed, or income type. "
   ]
  }
 ],
 "metadata": {
  "kernelspec": {
   "display_name": "Python 3",
   "language": "python",
   "name": "python3"
  },
  "language_info": {
   "codemirror_mode": {
    "name": "ipython",
    "version": 3
   },
   "file_extension": ".py",
   "mimetype": "text/x-python",
   "name": "python",
   "nbconvert_exporter": "python",
   "pygments_lexer": "ipython3",
   "version": "3.8.3"
  }
 },
 "nbformat": 4,
 "nbformat_minor": 2
}
